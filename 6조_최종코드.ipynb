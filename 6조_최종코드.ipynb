{
 "cells": [
  {
   "cell_type": "markdown",
   "metadata": {},
   "source": [
    "## Import Libraries"
   ]
  },
  {
   "cell_type": "code",
   "execution_count": null,
   "id": "6682df03",
   "metadata": {},
   "outputs": [],
   "source": [
    "import numpy as np, random, operator, pandas as pd, matplotlib.pyplot as plt"
   ]
  },
  {
   "cell_type": "markdown",
   "metadata": {},
   "source": [
    "## Import Data"
   ]
  },
  {
   "cell_type": "code",
   "execution_count": null,
   "id": "f7a9d567",
   "metadata": {},
   "outputs": [],
   "source": [
    "df_codata = pd.read_csv(\"dantzig42.csv\", header=None, names=['X', 'Y'])\n",
    "df_codata"
   ]
  },
  {
   "cell_type": "markdown",
   "metadata": {},
   "source": [
    "## Define Classes"
   ]
  },
  {
   "cell_type": "markdown",
   "metadata": {},
   "source": [
    "### City Class"
   ]
  },
  {
   "cell_type": "code",
   "execution_count": null,
   "id": "1bcfd532",
   "metadata": {},
   "outputs": [],
   "source": [
    "class City:\n",
    "    def __init__(self, x, y):\n",
    "        self.x = x\n",
    "        self.y = y\n",
    "    \n",
    "    def distance(self, city):\n",
    "        xDis = abs(self.x - city.x)\n",
    "        yDis = abs(self.y - city.y)\n",
    "        distance = np.sqrt((xDis ** 2) + (yDis ** 2))\n",
    "        return distance\n",
    "    \n",
    "    def __repr__(self):\n",
    "        return \"(\" + str(self.x) + \",\" + str(self.y) + \")\""
   ]
  },
  {
   "cell_type": "markdown",
   "metadata": {},
   "source": [
    "### Fitness Class"
   ]
  },
  {
   "cell_type": "code",
   "execution_count": null,
   "id": "19ecf2ad",
   "metadata": {},
   "outputs": [],
   "source": [
    "class Fitness:\n",
    "    def __init__(self, route):\n",
    "        self.route = route\n",
    "        self.distance = 0\n",
    "        self.fitness= 0.0\n",
    "    \n",
    "    def routeDistance(self):\n",
    "        if self.distance ==0:\n",
    "            pathDistance = 0\n",
    "            for i in range(0, len(self.route)):\n",
    "                fromCity = self.route[i]\n",
    "                toCity = None\n",
    "                if i + 1 < len(self.route):\n",
    "                    toCity = self.route[i + 1]\n",
    "                else:\n",
    "                    toCity = self.route[0]\n",
    "                pathDistance += fromCity.distance(toCity)\n",
    "            self.distance = pathDistance\n",
    "        return self.distance\n",
    "    \n",
    "    def routeFitness(self):\n",
    "        if self.fitness == 0:\n",
    "            self.fitness = 1 / float(self.routeDistance())\n",
    "        return self.fitness"
   ]
  },
  {
   "cell_type": "markdown",
   "metadata": {},
   "source": [
    "## Initialize Population"
   ]
  },
  {
   "cell_type": "code",
   "execution_count": null,
   "id": "3e64dac4",
   "metadata": {},
   "outputs": [],
   "source": [
    "def createRoute(cityList):\n",
    "    route = random.sample(cityList, len(cityList))\n",
    "    return route"
   ]
  },
  {
   "cell_type": "code",
   "execution_count": null,
   "id": "f910c2d7",
   "metadata": {},
   "outputs": [],
   "source": [
    "def initialPopulation(popSize, cityList):\n",
    "    population = []\n",
    "\n",
    "    for i in range(0, popSize):\n",
    "        population.append(createRoute(cityList))\n",
    "    return population"
   ]
  },
  {
   "cell_type": "markdown",
   "metadata": {},
   "source": [
    "## Rank "
   ]
  },
  {
   "cell_type": "code",
   "execution_count": null,
   "id": "95107b0b",
   "metadata": {},
   "outputs": [],
   "source": [
    "def rankRoutes(population):\n",
    "    fitnessResults = {}\n",
    "    for i in range(0,len(population)):\n",
    "        fitnessResults[i] = Fitness(population[i]).routeFitness()\n",
    "    return sorted(fitnessResults.items(), key = operator.itemgetter(1), reverse = True)"
   ]
  },
  {
   "cell_type": "markdown",
   "metadata": {},
   "source": [
    "## Selection"
   ]
  },
  {
   "cell_type": "code",
   "execution_count": null,
   "id": "32b6db28",
   "metadata": {},
   "outputs": [],
   "source": [
    "def selection(popRanked, eliteSize):\n",
    "    selectionResults = []\n",
    "    df = pd.DataFrame(np.array(popRanked), columns=[\"Index\",\"Fitness\"])\n",
    "    df['cum_sum'] = df.Fitness.cumsum()\n",
    "    df['cum_perc'] = 100*df.cum_sum/df.Fitness.sum()\n",
    "    \n",
    "    for i in range(0, eliteSize):\n",
    "        selectionResults.append(popRanked[i][0])\n",
    "    for i in range(0, len(popRanked) - eliteSize):\n",
    "        pick = 100*random.random()\n",
    "        for i in range(0, len(popRanked)):\n",
    "            if pick <= df.iat[i,3]:\n",
    "                selectionResults.append(popRanked[i][0])\n",
    "                break\n",
    "    return selectionResults"
   ]
  },
  {
   "cell_type": "markdown",
   "metadata": {},
   "source": [
    "## Crossover\n",
    "#### Choose Intended 'Breed' Function From the Following:"
   ]
  },
  {
   "cell_type": "markdown",
   "metadata": {},
   "source": [
    "### Ordinal Crossover"
   ]
  },
  {
   "cell_type": "code",
   "execution_count": null,
   "id": "b7e4e5be",
   "metadata": {},
   "outputs": [],
   "source": [
    "def breed(parent1, parent2):\n",
    "    child = [None] * len(parent1)\n",
    "    geneA = int(random.random() * len(parent1))\n",
    "    geneB = int(random.random() * len(parent1))\n",
    "\n",
    "    startGene = min(geneA, geneB)\n",
    "    endGene = max(geneA, geneB)\n",
    "\n",
    "    for i in range(startGene, endGene):\n",
    "        child[i] = parent1[i]\n",
    "\n",
    "    not_added = [item for item in parent2 if item not in child]\n",
    "    idx = 0\n",
    "    for i in range(len(child)):\n",
    "        if child[i] is None:\n",
    "            child[i] = not_added[idx]\n",
    "            idx += 1\n",
    "\n",
    "    return child"
   ]
  },
  {
   "cell_type": "markdown",
   "metadata": {},
   "source": [
    "### PMX"
   ]
  },
  {
   "cell_type": "code",
   "execution_count": null,
   "metadata": {},
   "outputs": [],
   "source": [
    "def breed(parent1, parent2):\n",
    "    child = [None] * len(parent1)\n",
    "    geneA = int(random.random() * len(parent1))\n",
    "    geneB = int(random.random() * len(parent1))\n",
    "\n",
    "    startGene = min(geneA, geneB)\n",
    "    endGene = max(geneA, geneB)\n",
    "\n",
    "    for i in range(startGene, endGene):\n",
    "        child[i] = parent1[i]\n",
    "\n",
    "    for i in range(startGene, endGene):\n",
    "        if parent2[i] not in child:\n",
    "            idx = parent2.index(parent1[i])\n",
    "            while child[idx] is not None:\n",
    "                idx = parent2.index(parent1[idx])\n",
    "            child[idx] = parent2[i]\n",
    "\n",
    "    for i in range(len(child)):\n",
    "        if child[i] is None:\n",
    "            child[i] = parent2[i]\n",
    "\n",
    "    return child"
   ]
  },
  {
   "cell_type": "markdown",
   "metadata": {},
   "source": [
    "### Ordered Crossover"
   ]
  },
  {
   "cell_type": "code",
   "execution_count": null,
   "metadata": {},
   "outputs": [],
   "source": [
    "def breed (parent1, parent2):\n",
    "    child = [None] * len (parent1)\n",
    "    geneA = int(random. random () * len (parent1))\n",
    "    geneB = int (random. random () * len (parent1))\n",
    "    startGene = min(geneA, geneB)\n",
    "    endGene = max(geneA, geneB)\n",
    "    \n",
    "    for i in range(startGene, endGene):\n",
    "        child [i] = parent1 [i]\n",
    "    \n",
    "    remaining = [city for city in parent2 if city not in child]\n",
    "    index = 0\n",
    "    \n",
    "    for i in range (len (parent2)):\n",
    "        if child[i] is None:\n",
    "            child[i] = remaining [index]\n",
    "            index += 1\n",
    "    return child"
   ]
  },
  {
   "cell_type": "markdown",
   "metadata": {},
   "source": [
    "### Edge Recombination"
   ]
  },
  {
   "cell_type": "code",
   "execution_count": null,
   "metadata": {},
   "outputs": [],
   "source": [
    "def breed(parent1, parent2):\n",
    "    child = []\n",
    "    cities = len(parent1)\n",
    "    edges_p1 = {parent1[i]: [parent1[(i + 1) % cities], parent1[(i - 1) % cities]] for i in range(cities)}\n",
    "    edges_p2 = {parent2[i]: [parent2[(i + 1) % cities], parent2[(i - 1) % cities]] for i in range(cities)}\n",
    "\n",
    "    # Convert keys to City objects in the dictionaries\n",
    "    edges_p1 = {City(city.x, city.y): [City(adjacent[0].x, adjacent[0].y), City(adjacent[1].x, adjacent[1].y)] for city, adjacent in edges_p1.items()}\n",
    "    edges_p2 = {City(city.x, city.y): [City(adjacent[0].x, adjacent[0].y), City(adjacent[1].x, adjacent[1].y)] for city, adjacent in edges_p2.items()}\n",
    "\n",
    "    start_city = parent1[0]  # Start from the first city in the parent1\n",
    "\n",
    "    while len(child) < cities:\n",
    "        child.append(start_city)\n",
    "\n",
    "        neighbors_p1 = edges_p1.get(start_city, [])\n",
    "        neighbors_p2 = edges_p2.get(start_city, [])\n",
    "\n",
    "        for neighbor in neighbors_p1:\n",
    "            if start_city in edges_p1.get(neighbor, []):\n",
    "                edges_p1[neighbor] = [city for city in edges_p1[neighbor] if city != start_city]\n",
    "        for neighbor in neighbors_p2:\n",
    "            if start_city in edges_p2.get(neighbor, []):\n",
    "                edges_p2[neighbor] = [city for city in edges_p2[neighbor] if city != start_city]\n",
    "\n",
    "        if start_city in edges_p1:\n",
    "            del edges_p1[start_city]\n",
    "        if start_city in edges_p2:\n",
    "            del edges_p2[start_city]\n",
    "\n",
    "        if edges_p1 or edges_p2:\n",
    "            next_cities = edges_p1.get(start_city, []) + edges_p2.get(start_city, [])\n",
    "            counts = {city: next_cities.count(city) for city in next_cities}\n",
    "            if counts:\n",
    "                start_city = min(counts, key=counts.get)\n",
    "            else:\n",
    "                remaining_cities = [city for city in parent1 if city not in child]\n",
    "                if remaining_cities:\n",
    "                    start_city = remaining_cities[0]\n",
    "                else:\n",
    "                    break  # Break the loop if there are no remaining cities\n",
    "        else:\n",
    "            remaining_cities = [city for city in parent1 if city not in child]\n",
    "            if remaining_cities:\n",
    "                start_city = remaining_cities[0]\n",
    "            else:\n",
    "                break  # Break the loop if there are no remaining cities\n",
    "\n",
    "    return child\n"
   ]
  },
  {
   "cell_type": "markdown",
   "metadata": {},
   "source": [
    "### Crossover Function"
   ]
  },
  {
   "cell_type": "code",
   "execution_count": null,
   "id": "0c85dbd7",
   "metadata": {},
   "outputs": [],
   "source": [
    "def matingPool(population, selectionResults):\n",
    "    matingpool = []\n",
    "    for i in range(0, len(selectionResults)):\n",
    "        index = selectionResults[i]\n",
    "        matingpool.append(population[index])\n",
    "    return matingpool"
   ]
  },
  {
   "cell_type": "code",
   "execution_count": null,
   "id": "eb8717c3",
   "metadata": {},
   "outputs": [],
   "source": [
    "def breedPopulation(matingpool, eliteSize):\n",
    "    children = []\n",
    "    length = len(matingpool) - eliteSize\n",
    "    pool = random.sample(matingpool, len(matingpool))\n",
    "\n",
    "    for i in range(0,eliteSize):\n",
    "        children.append(matingpool[i])\n",
    "    \n",
    "    for i in range(0, length):\n",
    "        child = breed(pool[i], pool[len(matingpool)-i-1])\n",
    "        children.append(child)\n",
    "    return children"
   ]
  },
  {
   "cell_type": "markdown",
   "metadata": {},
   "source": [
    "## Local Search"
   ]
  },
  {
   "cell_type": "markdown",
   "metadata": {},
   "source": [
    "### 2-OPT"
   ]
  },
  {
   "cell_type": "code",
   "execution_count": null,
   "metadata": {},
   "outputs": [],
   "source": [
    "def two_Opt(route, i, k):\n",
    "    new_route = route[:i] + route[i:k+1][::-1] + route[k+1:]\n",
    "    return new_route"
   ]
  },
  {
   "cell_type": "markdown",
   "metadata": {},
   "source": [
    "### 3-OPT"
   ]
  },
  {
   "cell_type": "code",
   "execution_count": null,
   "metadata": {},
   "outputs": [],
   "source": [
    "def three_Opt(route, i, j, k):\n",
    "    # 3개의 하위 경로 \n",
    "    part1 = route[:i]\n",
    "    part2 = route[i:j]\n",
    "    part3 = route[j:k]\n",
    "    part4 = route[k:]\n",
    "\n",
    "    # 3개의 하위 경로 합치는 조합\n",
    "    option1 = part1 + part3 + part2 + part4\n",
    "    option2 = part1 + part2 + part4 + part3\n",
    "    option3 = part1 + part4 + part3 + part2\n",
    "\n",
    "    # 각 옵션의 거리 계산\n",
    "    dist_option1 = sum(city.distance(option1[idx + 1]) for idx, city in enumerate(option1[:-1]))\n",
    "    dist_option2 = sum(city.distance(option2[idx + 1]) for idx, city in enumerate(option2[:-1]))\n",
    "    dist_option3 = sum(city.distance(option3[idx + 1]) for idx, city in enumerate(option3[:-1]))\n",
    "\n",
    "    # 최소 거리인 옵션 선택\n",
    "    min_dist = min(dist_option1, dist_option2, dist_option3)\n",
    "    if min_dist == dist_option1:\n",
    "        new_route = option1\n",
    "    elif min_dist == dist_option2:\n",
    "        new_route = option2\n",
    "    else:\n",
    "        new_route = option3\n",
    "\n",
    "    return new_route\n"
   ]
  },
  {
   "cell_type": "markdown",
   "metadata": {},
   "source": [
    "### 5-OPT"
   ]
  },
  {
   "cell_type": "code",
   "execution_count": null,
   "id": "dc162ab6",
   "metadata": {},
   "outputs": [],
   "source": [
    "def five_Opt(route, i, j, k, l, m):\n",
    "    # 5개의 하위 경로\n",
    "    part1 = route[:i]\n",
    "    part2 = route[i:j]\n",
    "    part3 = route[j:k]\n",
    "    part4 = route[k:l]\n",
    "    part5 = route[l:m]\n",
    "    part6 = route[m:]\n",
    "\n",
    "    # 5개의 하위 경로를 합치는 조합\n",
    "    option1 = part1 + part5 + part4 + part3 + part2 + part6\n",
    "    option2 = part1 + part2 + part6 + part5 + part4 + part3\n",
    "    option3 = part1 + part2 + part3 + part6 + part5 + part4\n",
    "    option4 = part1 + part2 + part4 + part5 + part3 + part6\n",
    "    option5 = part1 + part6 + part3 + part2 + part5 + part4\n",
    "\n",
    "    # 각 옵션의 거리 계산\n",
    "    dist_option1 = sum(city.distance(option1[idx + 1]) for idx, city in enumerate(option1[:-1]))\n",
    "    dist_option2 = sum(city.distance(option2[idx + 1]) for idx, city in enumerate(option2[:-1]))\n",
    "    dist_option3 = sum(city.distance(option3[idx + 1]) for idx, city in enumerate(option3[:-1]))\n",
    "    dist_option4 = sum(city.distance(option4[idx + 1]) for idx, city in enumerate(option4[:-1]))\n",
    "    dist_option5 = sum(city.distance(option5[idx + 1]) for idx, city in enumerate(option5[:-1]))\n",
    "\n",
    "    # 최소 거리인 옵션 선택\n",
    "    min_dist = min(dist_option1, dist_option2, dist_option3, dist_option4, dist_option5)\n",
    "    if min_dist == dist_option1:\n",
    "        new_route = option1\n",
    "    elif min_dist == dist_option2:\n",
    "        new_route = option2\n",
    "    elif min_dist == dist_option3:\n",
    "        new_route = option3\n",
    "    elif min_dist == dist_option4:\n",
    "        new_route = option4\n",
    "    else:\n",
    "        new_route = option5\n",
    "\n",
    "    return new_route\n"
   ]
  },
  {
   "cell_type": "markdown",
   "metadata": {},
   "source": [
    "## Mutation\n",
    "#### Define Intended Local Search Algorithm Name in line 4 of Following Code (If None, Delete Line):"
   ]
  },
  {
   "cell_type": "code",
   "execution_count": null,
   "id": "a7a021dd",
   "metadata": {},
   "outputs": [],
   "source": [
    "def mutate(individual, mutationRate):\n",
    "    if random.random() < mutationRate:\n",
    "        i, j, k, l, m = sorted(random.sample(range(len(individual)), 5))\n",
    "        individual = five_Opt(individual, i, j, k, l, m)\n",
    "    return individual"
   ]
  },
  {
   "cell_type": "code",
   "execution_count": null,
   "id": "0c78b654",
   "metadata": {},
   "outputs": [],
   "source": [
    "def mutatePopulation(population, mutationRate):\n",
    "    mutatedPop = []\n",
    "    \n",
    "    for ind in range(0, len(population)):\n",
    "        mutatedInd = mutate(population[ind], mutationRate)\n",
    "        mutatedPop.append(mutatedInd)\n",
    "    return mutatedPop\n"
   ]
  },
  {
   "cell_type": "markdown",
   "metadata": {},
   "source": [
    "## Replacement"
   ]
  },
  {
   "cell_type": "code",
   "execution_count": null,
   "id": "07d0663c",
   "metadata": {},
   "outputs": [],
   "source": [
    "def nextGeneration(currentGen, eliteSize, mutationRate):\n",
    "    popRanked = rankRoutes(currentGen)\n",
    "    selectionResults = selection(popRanked, eliteSize)\n",
    "    matingpool = matingPool(currentGen, selectionResults)\n",
    "    children = breedPopulation(matingpool, eliteSize)\n",
    "    nextGeneration = mutatePopulation(children, mutationRate)\n",
    "    return nextGeneration"
   ]
  },
  {
   "cell_type": "markdown",
   "metadata": {},
   "source": [
    "## GA "
   ]
  },
  {
   "cell_type": "code",
   "execution_count": null,
   "id": "503d57d7",
   "metadata": {},
   "outputs": [],
   "source": [
    "def geneticAlgorithm(population, popSize, eliteSize, mutationRate, generations):\n",
    "    pop = initialPopulation(popSize, population)\n",
    "    print(\"Initial distance: \" + str(1 / rankRoutes(pop)[0][1]))\n",
    "    \n",
    "    for i in range(0, generations):\n",
    "        pop = nextGeneration(pop, eliteSize, mutationRate)\n",
    "    \n",
    "    print(\"Final distance: \" + str(1 / rankRoutes(pop)[0][1]))\n",
    "    bestRouteIndex = rankRoutes(pop)[0][0]\n",
    "    bestRoute = pop[bestRouteIndex]\n",
    "    return bestRoute"
   ]
  },
  {
   "cell_type": "markdown",
   "id": "24cf4d11",
   "metadata": {},
   "source": [
    "## Running the GA"
   ]
  },
  {
   "cell_type": "code",
   "execution_count": null,
   "id": "d1e5ca97",
   "metadata": {},
   "outputs": [],
   "source": [
    "cityList = []\n",
    "\n",
    "for i in range(len(df_codata)):\n",
    "    X, Y = df_codata.values[i]\n",
    "    cityList.append(City(x=int(X), y=int(Y)))\n",
    "\n",
    "print(len(cityList))"
   ]
  },
  {
   "cell_type": "code",
   "execution_count": null,
   "id": "a4b0a53d",
   "metadata": {},
   "outputs": [],
   "source": [
    "geneticAlgorithm(population=cityList, popSize=100, eliteSize=20, mutationRate=0.01, generations=500)"
   ]
  },
  {
   "cell_type": "markdown",
   "id": "fc36091e",
   "metadata": {},
   "source": [
    "## Plot and Save Best Fitness"
   ]
  },
  {
   "cell_type": "code",
   "execution_count": null,
   "id": "2ea6acf1",
   "metadata": {},
   "outputs": [],
   "source": [
    "def geneticAlgorithmPlot(population, popSize, eliteSize, mutationRate, generations):\n",
    "    pop = initialPopulation(popSize, population)\n",
    "    progress = []\n",
    "    progress.append(1 / rankRoutes(pop)[0][1])\n",
    "    \n",
    "    for i in range(0, generations):\n",
    "        pop = nextGeneration(pop, eliteSize, mutationRate)\n",
    "        progress.append(1 / rankRoutes(pop)[0][1])\n",
    "    \n",
    "    plt.plot(progress)\n",
    "    plt.ylabel('Distance')\n",
    "    plt.xlabel('Generation')\n",
    "    \n",
    "    # Save the plot\n",
    "    plt.savefig('PMXX-5OPT.png')\n",
    "\n",
    "    # Display the plot\n",
    "    plt.show()\n"
   ]
  },
  {
   "cell_type": "code",
   "execution_count": null,
   "id": "91d23240",
   "metadata": {},
   "outputs": [],
   "source": [
    "geneticAlgorithmPlot(population=cityList, popSize=100, eliteSize=20, mutationRate=0.01, generations=500)"
   ]
  }
 ],
 "metadata": {
  "kernelspec": {
   "display_name": "Python 3 (ipykernel)",
   "language": "python",
   "name": "python3"
  },
  "language_info": {
   "codemirror_mode": {
    "name": "ipython",
    "version": 3
   },
   "file_extension": ".py",
   "mimetype": "text/x-python",
   "name": "python",
   "nbconvert_exporter": "python",
   "pygments_lexer": "ipython3",
   "version": "3.9.7"
  }
 },
 "nbformat": 4,
 "nbformat_minor": 5
}
